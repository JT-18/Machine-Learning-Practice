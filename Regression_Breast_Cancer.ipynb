{
  "nbformat": 4,
  "nbformat_minor": 0,
  "metadata": {
    "colab": {
      "name": "Regression_Breast_Cancer.ipynb",
      "provenance": [],
      "toc_visible": true
    },
    "kernelspec": {
      "name": "python3",
      "display_name": "Python 3"
    }
  },
  "cells": [
    {
      "cell_type": "markdown",
      "metadata": {
        "id": "w-9-F_UqKtaw"
      },
      "source": [
        "### **Importing Required Packages**"
      ]
    },
    {
      "cell_type": "code",
      "metadata": {
        "id": "fVwI_f2cKaTo"
      },
      "source": [
        "import pandas as pd\n",
        "import numpy as np\n",
        "from sklearn.metrics import confusion_matrix\n",
        "path = 'breast-cancer-wisconsin.data'"
      ],
      "execution_count": 1,
      "outputs": []
    },
    {
      "cell_type": "markdown",
      "metadata": {
        "id": "ebL9IlZQK8Fu"
      },
      "source": [
        "### **Reading Breast Cancer Dataset**"
      ]
    },
    {
      "cell_type": "code",
      "metadata": {
        "id": "ucBo44O2K3Tm"
      },
      "source": [
        "def read_Breast_Cancer_Data(path):\n",
        "  df = pd.read_csv(path,names = ['id','Clump Thickness','Uniformity of Cell Size','Uniformity of Cell Shape',\n",
        "                                'Marginal Adhesion','Single Epithelial Cell Size','Bare Nuclei','Bland Chromatin',\n",
        "                               'Normal Nucleoli','Mitoses','class'])\n",
        "  df['class'] = df['class']/2 -1\n",
        "  df.drop(['id'],1,inplace = True)\n",
        "  df.replace('?',0,inplace = True)\n",
        "  df['Bare Nuclei'] = df['Bare Nuclei'].astype('float')\n",
        "  df_test = df.sample(frac = 0.1)\n",
        "  unique = (df.index).difference(df_test.index) # Set difference.\n",
        "  df_train = df.filter(items = unique,axis = 'index')\n",
        "  return df_train,df_test"
      ],
      "execution_count": 3,
      "outputs": []
    },
    {
      "cell_type": "markdown",
      "metadata": {
        "id": "OCbSHfpUM9b1"
      },
      "source": [
        "### **Sigmoid**"
      ]
    },
    {
      "cell_type": "code",
      "metadata": {
        "id": "pzK0mzkVM7OO"
      },
      "source": [
        "def sigmoid(z):\n",
        " return 1/(1+np.exp(-z))"
      ],
      "execution_count": 6,
      "outputs": []
    },
    {
      "cell_type": "markdown",
      "metadata": {
        "id": "vTs80h6GNXel"
      },
      "source": [
        "### **Regression Classifer for Breast Cancer**"
      ]
    },
    {
      "cell_type": "code",
      "metadata": {
        "id": "kwxx2sYrNAgl"
      },
      "source": [
        "#No of Layers = 1\n",
        "#Inputs = 9\n",
        "#Output = 1\n",
        "#Activation = sigmoid\n",
        "#Cost = Logarithmic Cost function\n",
        "\n",
        "#Reading the data\n",
        "df_train,df_test = read_Breast_Cancer_Data(path)\n",
        "\n",
        "# Generating the Input feature vectors for training as well as testing.\n",
        "X_train = np.array(df_train.drop(['class'],1)).T\n",
        "Y_train = np.array(df_train['class'])\n",
        "Y_train = Y_train.reshape(Y_train.shape[0],1).T\n",
        "X_test = np.array(df_test.drop(['class'],1)).T\n",
        "Y_test = np.array(df_test['class'])\n",
        "Y_test = Y_test.reshape(Y_test.shape[0],1).T\n",
        "m = X_train.shape[1]\n",
        "  \n",
        "#Initializing weight matrix and hyper parameters\n",
        "learning_rate = 0.01\n",
        "iterations = 10000\n",
        "W1 = np.random.rand(9,1) * 0.001\n",
        "b1 = np.zeros([1,1])\n",
        "cost = []\n",
        "acc = []\n",
        "\n",
        "\n",
        "\n"
      ],
      "execution_count": 7,
      "outputs": []
    },
    {
      "cell_type": "markdown",
      "metadata": {
        "id": "zcbOe_hi6JCt"
      },
      "source": [
        "### **Training Phase**"
      ]
    },
    {
      "cell_type": "code",
      "metadata": {
        "id": "FgXgnDxi6Jja",
        "colab": {
          "base_uri": "https://localhost:8080/"
        },
        "outputId": "c83681e2-478f-42a8-d85d-b3b1c27cd21d"
      },
      "source": [
        "print(\"Training the Model:\")\n",
        "\n",
        "for i in range(iterations):\n",
        "  Z1 = W1.T @ X_train + b1\n",
        "  A1 = sigmoid(Z1)\n",
        "  Y_predict = np.where(A1 > 0.5,1,0)\n",
        "  acc_train = 1- np.sum(np.abs(Y_train - Y_predict))/m\n",
        "  acc.append(acc_train) \n",
        "  #Calculate the cost\n",
        "  cost_per_itr = -(Y_train @ (np.log(A1)).T + (1-Y_train) @ (np.log(1-A1)).T)/m\n",
        "  cost.append(cost_per_itr[0][0])\n",
        "  if i%1000 == 0:\n",
        "    print(\"Iteration No :{:4d}     Cost:{:.4f}     Training Acc :{:.4f}\".format(i,cost_per_itr[0][0],acc_train))\n",
        "\n",
        "  #Calculate change in weights\n",
        "  dw = (np.dot(X_train,(A1-Y_train).T))/m\n",
        "  db = (np.sum(A1-Y_train,axis = 1,keepdims = True))/m\n",
        "  #print(f\"db after {i} th iteration : {db.shape}\")\n",
        "\n",
        "  #Update weights\n",
        "  W1 = W1 - learning_rate*dw\n",
        "  b1 = b1 - learning_rate*db\n"
      ],
      "execution_count": 8,
      "outputs": [
        {
          "output_type": "stream",
          "text": [
            "Training the Model:\n",
            "Iteration No :   0     Cost:0.6902     Training Acc :0.3402\n",
            "Iteration No :1000     Cost:0.2726     Training Acc :0.9332\n",
            "Iteration No :2000     Cost:0.2197     Training Acc :0.9475\n",
            "Iteration No :3000     Cost:0.1883     Training Acc :0.9539\n",
            "Iteration No :4000     Cost:0.1673     Training Acc :0.9571\n",
            "Iteration No :5000     Cost:0.1524     Training Acc :0.9587\n",
            "Iteration No :6000     Cost:0.1413     Training Acc :0.9618\n",
            "Iteration No :7000     Cost:0.1329     Training Acc :0.9618\n",
            "Iteration No :8000     Cost:0.1262     Training Acc :0.9634\n",
            "Iteration No :9000     Cost:0.1209     Training Acc :0.9650\n"
          ],
          "name": "stdout"
        }
      ]
    },
    {
      "cell_type": "markdown",
      "metadata": {
        "id": "EjhS8ThM46RZ"
      },
      "source": [
        "### **Testing the model**"
      ]
    },
    {
      "cell_type": "code",
      "metadata": {
        "id": "DtX4R77f4580",
        "colab": {
          "base_uri": "https://localhost:8080/"
        },
        "outputId": "3cd0868d-c75b-46ea-a551-d13dd2c0a7b1"
      },
      "source": [
        "#Test the trained model. \n",
        "Z1 = W1.T @ X_test + b1\n",
        "A1 = sigmoid(Z1)\n",
        "Y_predict = np.where(A1 > 0.5,1,0)\n",
        "acc_test =1- np.sum(np.abs(Y_test - Y_predict))/m\n",
        "print(f\"\\nTesting Accuracy:{acc_test:.4f}\")\n",
        "\n",
        "print('\\n Confusion Matrix')\n",
        "c_mat = confusion_matrix(Y_test.squeeze().tolist(),Y_predict.squeeze().tolist())\n",
        "df = pd.DataFrame(c_mat) \n",
        "print(df)"
      ],
      "execution_count": 9,
      "outputs": [
        {
          "output_type": "stream",
          "text": [
            "\n",
            "Testing Accuracy:0.9968\n",
            "\n",
            " Confusion Matrix\n",
            "    0   1\n",
            "0  43   0\n",
            "1   2  25\n"
          ],
          "name": "stdout"
        }
      ]
    }
  ]
}