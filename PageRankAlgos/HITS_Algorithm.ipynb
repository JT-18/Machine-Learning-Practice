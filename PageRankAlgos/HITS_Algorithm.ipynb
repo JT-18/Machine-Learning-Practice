{
  "nbformat": 4,
  "nbformat_minor": 0,
  "metadata": {
    "colab": {
      "name": "Copy of HITS.ipynb",
      "provenance": [],
      "collapsed_sections": [],
      "toc_visible": true
    },
    "kernelspec": {
      "name": "python3",
      "display_name": "Python 3"
    }
  },
  "cells": [
    {
      "cell_type": "markdown",
      "metadata": {
        "id": "MC3EY9AwtjUK"
      },
      "source": [
        "### **Importing the libraries**"
      ]
    },
    {
      "cell_type": "code",
      "metadata": {
        "id": "8ETRFJ5ks8fu"
      },
      "source": [
        "import numpy as np\n",
        "import pandas as pd\n",
        "from math import sqrt\n"
      ],
      "execution_count": null,
      "outputs": []
    },
    {
      "cell_type": "markdown",
      "metadata": {
        "id": "jIARh7GluHpS"
      },
      "source": [
        "### **Importing Data**"
      ]
    },
    {
      "cell_type": "code",
      "metadata": {
        "id": "qPZPh5vxuL3C"
      },
      "source": [
        "path = \"web-BerkStan.txt\"\n",
        "#Extracting the number of nodes and its corresponding edges from the data\n",
        "no_of_Nodes = 1000\n",
        "df = pd.read_csv(path,skiprows=4,sep = '\\t',names = ['FromNode','ToNode'])\n",
        "df = df[df['FromNode'] < no_of_Nodes]\n",
        "df = df[df['ToNode'] < no_of_Nodes]\n",
        "df"
      ],
      "execution_count": null,
      "outputs": []
    },
    {
      "cell_type": "markdown",
      "metadata": {
        "id": "YM044h0TtsZS"
      },
      "source": [
        "### **Initializing the Matrices**"
      ]
    },
    {
      "cell_type": "code",
      "metadata": {
        "id": "PoYeDAMctisc"
      },
      "source": [
        "adj = np.zeros([no_of_Nodes,no_of_Nodes],dtype = 'uint8')\n",
        "u = np.ones([no_of_Nodes,1])\n",
        "v = np.ones([no_of_Nodes,1])\n",
        "\n",
        "for i in range(len(df)):\n",
        "  adj[df.iloc[i,0],df.iloc[i,1]] = 1\n"
      ],
      "execution_count": null,
      "outputs": []
    },
    {
      "cell_type": "markdown",
      "metadata": {
        "id": "7cjhYpLKt1ay"
      },
      "source": [
        "### **HITS ALgorithm**"
      ]
    },
    {
      "cell_type": "code",
      "metadata": {
        "id": "GuRRVVsft6LK"
      },
      "source": [
        "cnt = 0\n",
        "u_current = pd.Series(u[:,0])\n",
        "u_prev = u_current.copy(deep = True)\n",
        "v_current = pd.Series(v[:,0])\n",
        "v_prev = v_current.copy(deep = True)\n",
        "\n",
        "while True:\n",
        "  cnt = cnt + 1\n",
        "  v = adj.T @ u\n",
        "  u = adj @ v\n",
        "  u_current = pd.Series(u[:,0])\n",
        "  u_current.sort_values(inplace = True,ascending = False)\n",
        "  v_current = pd.Series(v[:,0])\n",
        "  v_current.sort_values(inplace = True,ascending = False)\n",
        "  if (u_current.index.values.tolist() == u_prev.index.values.tolist()) and (v_current.index.values.tolist() == v_prev.index.values.tolist()):\n",
        "    break\n",
        "  u_prev = u_current.copy(deep = True)\n",
        "  v_prev = v_current.copy(deep = True)\n",
        "  norm = np.sum((v**2))\n",
        "  v_norm = sqrt(norm)\n",
        "  v = v/v_norm\n",
        "  norm = np.sum((u**2))\n",
        "  u_norm = sqrt(norm)\n",
        "  u = u/u_norm\n"
      ],
      "execution_count": null,
      "outputs": []
    },
    {
      "cell_type": "code",
      "metadata": {
        "id": "-sTcr7lb-MBb"
      },
      "source": [
        "\n",
        "print(\"No of Iterations : \" + (str)(cnt))\n",
        "print(\"\\nHub Page Rank\")\n",
        "print(u_current/u_norm)\n",
        "print(\"\\nAuthoritative Pages Rank\")\n",
        "print(v_current/v_norm)"
      ],
      "execution_count": null,
      "outputs": []
    }
  ]
}