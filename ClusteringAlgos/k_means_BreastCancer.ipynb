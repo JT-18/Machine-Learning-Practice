{
  "nbformat": 4,
  "nbformat_minor": 0,
  "metadata": {
    "colab": {
      "name": "k_means_BreastCancer.ipynb",
      "provenance": []
    },
    "kernelspec": {
      "name": "python3",
      "display_name": "Python 3"
    }
  },
  "cells": [
    {
      "cell_type": "code",
      "metadata": {
        "id": "Ff2G735eUHtE",
        "colab": {
          "base_uri": "https://localhost:8080/"
        },
        "outputId": "359b2037-5414-435c-a20e-7a7f213b4540"
      },
      "source": [
        "import pandas as pd\n",
        "import numpy as np\n",
        "from copy import deepcopy\n",
        "path = 'breast-cancer-wisconsin.data'\n",
        "\n",
        "\n",
        "def read_Breast_Cancer_Data(path):\n",
        "  df = pd.read_csv(path,names = ['id','Clump Thickness','Uniformity of Cell Size','Uniformity of Cell Shape',\n",
        "                                'Marginal Adhesion','Single Epithelial Cell Size','Bare Nuclei','Bland Chromatin',\n",
        "                                'Normal Nucleoli','Mitoses','class'],na_values = '?')\n",
        "  df.drop(['class','id'],axis = 1,inplace = True)\n",
        "  df.dropna(inplace = True)\n",
        "  df['Bare Nuclei'] = df['Bare Nuclei'].astype('float')\n",
        "  avg = np.mean(df['Bare Nuclei'])\n",
        "  df['Bare Nuclei'].replace('0',avg,inplace = True)\n",
        "  return df\n",
        "\n",
        "\n",
        "\n",
        "#Initiallizing the parameters\n",
        "df_org = read_Breast_Cancer_Data(path)\n",
        "prev_var = 1e7\n",
        "var = 0\n",
        "k = 1\n",
        "prev_cluster = {}\n",
        "\n",
        "\n",
        "\n",
        "print('No of Clusters\\tNo to iterations\\tVariance')\n",
        "#To determine the number of clusters.\n",
        "while True:\n",
        "  df_samples = np.array(df_org.sample(n = k))\n",
        "  df = np.array(df_org)\n",
        "  centroid = {}\n",
        "  prev_centroids = {}\n",
        "\n",
        "  #Applying the K Means Clustering Algorithm\n",
        "  \n",
        "  #Initializing the means\n",
        "  for i in range(k):\n",
        "    centroid[i+1] = df_samples[i]\n",
        "  \n",
        "  cluster = {}\n",
        "  cnt = 0\n",
        "  \n",
        "  #Iterating over the dataset\n",
        "  while True:\n",
        "    cnt += 1\n",
        "    \n",
        "    #Assigning the point to the cluster\n",
        "    for ex in df:\n",
        "      dist = []\n",
        "      for i in range(k):\n",
        "        dist_calc = np.linalg.norm(ex - centroid[i+1])\n",
        "        dist.append((dist_calc,i+1))\n",
        "      \n",
        "      if min(dist)[1] not in cluster :\n",
        "        cluster[min(dist)[1]] = ex\n",
        "      else:\n",
        "        cluster[min(dist)[1]] = np.vstack((cluster[min(dist)[1]],ex))\n",
        "    \n",
        "    #Calculating the mean of each cluster and updating the centroids.\n",
        "    for i in range(k):  \n",
        "      centroid[i+1] = np.mean(cluster[i+1],axis = 0).tolist()\n",
        "    \n",
        "    var_calc = []\n",
        "    #Calculating the Variance.\n",
        "    for i in range(k):\n",
        "      var_calc.append(np.sum(np.var(cluster[i+1],axis = 0)))\n",
        "    var = np.sum(var_calc)\n",
        "    print('{0: 5d}\\t\\t{1: 5d}\\t\\t\\t{2: 3.4f}'.format(k,cnt,var))\n",
        "    #Comparing the centroids with previous centroids\n",
        "    if centroid == prev_centroids:\n",
        "      break\n",
        "    else:\n",
        "      prev_centroids = deepcopy(centroid)\n",
        "      cluster.clear()\n",
        "  #print('{0: 5d}\\t\\t{1: 5d}\\t\\t\\t{2: 3.4f}'.format(k,cnt,var))\n",
        "\n",
        "  if prev_var < var:\n",
        "    break\n",
        "  else:\n",
        "    prev_var = var\n",
        "    prev_cluster = deepcopy(cluster)\n",
        "    k += 1\n"
      ],
      "execution_count": null,
      "outputs": [
        {
          "output_type": "stream",
          "text": [
            "No of Clusters\tNo to iterations\tVariance\n",
            "    1\t\t    1\t\t\t 70.9269\n",
            "    1\t\t    2\t\t\t 70.9269\n",
            "    2\t\t    1\t\t\t 97.4028\n",
            "    2\t\t    2\t\t\t 79.3488\n",
            "    2\t\t    3\t\t\t 75.3749\n",
            "    2\t\t    4\t\t\t 74.7732\n",
            "    2\t\t    5\t\t\t 74.6294\n",
            "    2\t\t    6\t\t\t 74.6294\n"
          ],
          "name": "stdout"
        }
      ]
    },
    {
      "cell_type": "code",
      "metadata": {
        "id": "oQnBSJVio2K-"
      },
      "source": [
        ""
      ],
      "execution_count": null,
      "outputs": []
    }
  ]
}